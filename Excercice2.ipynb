{
 "cells": [
  {
   "cell_type": "markdown",
   "metadata": {},
   "source": [
    "# Apache Spark - Optimization \n",
    "by Mohamed Rachidi\n"
   ]
  },
  {
   "cell_type": "markdown",
   "metadata": {},
   "source": [
    "To get Setup for this workshop follow these two blog posts: \n",
    "- https://mohamed-rachidi.medium.com/part-1-database-setup-for-tpc-ds-e4a684731bed\n",
    "- https://mohamed-rachidi.medium.com/part-2-setup-jupyter-notebook-and-spark-with-scala-locally-9d46a9423ba0"
   ]
  },
  {
   "cell_type": "markdown",
   "metadata": {},
   "source": [
    "## Initial Setup\n",
    "\n"
   ]
  },
  {
   "cell_type": "code",
   "execution_count": 4,
   "metadata": {},
   "outputs": [],
   "source": [
    "\n",
    "import os\n",
    "import sys\n",
    "os.environ[\"PYSPARK_PYTHON\"] = '/usr/local/Cellar/apache-spark/3.0.1/libexec/python/'\n",
    "os.environ[\"SPARK_HOME\"] = '/usr/local/Cellar/apache-spark/3.0.1/libexec'\n",
    "sys.path.append(\"/usr/local/Cellar/apache-spark/3.0.1/libexec/python\")\n",
    "sys.path.append(\"/usr/local/Cellar/apache-spark/3.0.1/libexec/python/lib/py4j-0.10.4-src.zip\")\n",
    "\n",
    "\n",
    "\n",
    "store_sales = spark.read.format(\"csv\")\\\n",
    "  .option(\"quote\", \"\")\\\n",
    "  .option(\"delimiter\", \"|\")\\\n",
    "  .option(\"ignoreTrailingWhiteSpace\", True)\\\n",
    "  .load(\"/Users/mrachidi/Code/tpcds-kit/tools/store_sales.dat\")\\\n",
    ".toDF(\"ss_sold_date_sk\",\"ss_sold_time_sk\",\"ss_item_sk\",\"ss_customer_sk\",\\\n",
    "      \"ss_cdemo_sk\",\"ss_hdemo_sk\",\"ss_addr_sk\",\"ss_store_sk\",\"ss_promo_sk\",\\\n",
    "      \"ss_ticket_number\",\"ss_quantity\",\"ss_wholesale_cost\",\"ss_list_price\",\\\n",
    "      \"ss_sales_price\",\"ss_ext_discount_amt\",\"ss_ext_sales_price\",\"ss_ext_wholesale_cost\",\\\n",
    "      \"ss_ext_list_price\",\"ss_ext_tax\",\"ss_coupon_amt\",\"ss_net_paid\",\"ss_net_paid_inc_tax\",\\\n",
    "      \"ss_net_profit\",\"useless1\")\n",
    "date_dim = spark.read.format(\"csv\")\\\n",
    "  .option(\"quote\", \"\")\\\n",
    "  .option(\"delimiter\", \"|\")\\\n",
    "  .option(\"ignoreTrailingWhiteSpace\", True)\\\n",
    "  .load(\"/Users/mrachidi/Code/tpcds-kit/tools/date_dim.dat\")\\\n",
    ".toDF(\"d_date_sk\",\"d_date_id\",\"d_date\",\"d_month_seq\",\"d_week_seq\",\\\n",
    "      \"d_quarter_seq\",\"d_year\",\"d_dow\",\"d_moy\",\"d_dom\",\"d_qoy\",\"d_fy_year\",\\\n",
    "      \"d_fy_quarter_seq\",\"d_fy_week_seq\",\"d_day_name\",\"d_quarter_name\",\"d_holiday\",\\\n",
    "      \"d_weekend\",\"d_following_holiday\",\"d_first_dom\",\"d_last_dom\",\"d_same_day_ly\",\\\n",
    "      \"d_same_day_lq\",\"d_current_day\",\"d_current_week\",\"d_current_month\",\"d_current_quarter\",\\\n",
    "      \"d_current_year\",\"useless2\")\n",
    "item = spark.read.format(\"csv\")\\\n",
    "  .option(\"quote\", \"\")\\\n",
    "  .option(\"delimiter\", \"|\")\\\n",
    "  .option(\"ignoreTrailingWhiteSpace\", True)\\\n",
    "  .load(\"/Users/mrachidi/Code/tpcds-kit/tools/item.dat\")\\\n",
    ".toDF(\"i_item_sk\",\"i_item_id\",\"i_rec_start_date\",\"i_rec_end_date\",\\\n",
    "      \"i_item_desc\",\"i_current_price\",\"i_wholesale_cost\",\"i_brand_id\",\\\n",
    "      \"i_brand\",\"i_class_id\",\"i_class\",\"i_category_id\",\"i_category\",\"i_manufact_id\",\\\n",
    "      \"i_manufact\",\"i_size\",\"i_formulation\",\"i_color\",\"i_units\",\"i_container\",\\\n",
    "      \"i_manager_id\",\"i_product_name\",\"useless3\")\n",
    "inv = spark.read.format(\"csv\")\\\n",
    "  .option(\"quote\", \"\")\\\n",
    "  .option(\"delimiter\", \"|\")\\\n",
    "  .option(\"ignoreTrailingWhiteSpace\", True)\\\n",
    "  .load(\"/Users/mrachidi/Code/tpcds-kit/tools/inventory.dat\")\\\n",
    ".toDF(\"inv_date_sk\",\"inv_item_sk\",\"inv_warehouse_sk\",\"inv_quantity_on_hand\",\"useless4\")"
   ]
  },
  {
   "cell_type": "markdown",
   "metadata": {},
   "source": [
    "# Visualize Data"
   ]
  },
  {
   "cell_type": "code",
   "execution_count": 2,
   "metadata": {
    "scrolled": true
   },
   "outputs": [
    {
     "name": "stdout",
     "output_type": "stream",
     "text": [
      "root\n",
      " |-- ss_sold_date_sk: integer (nullable = true)\n",
      " |-- ss_sold_time_sk: integer (nullable = true)\n",
      " |-- ss_item_sk: integer (nullable = true)\n",
      " |-- ss_customer_sk: integer (nullable = true)\n",
      " |-- ss_cdemo_sk: integer (nullable = true)\n",
      " |-- ss_hdemo_sk: integer (nullable = true)\n",
      " |-- ss_addr_sk: integer (nullable = true)\n",
      " |-- ss_store_sk: integer (nullable = true)\n",
      " |-- ss_promo_sk: integer (nullable = true)\n",
      " |-- ss_ticket_number: integer (nullable = true)\n",
      " |-- ss_quantity: integer (nullable = true)\n",
      " |-- ss_wholesale_cost: decimal(7,2) (nullable = true)\n",
      " |-- ss_list_price: decimal(7,2) (nullable = true)\n",
      " |-- ss_sales_price: decimal(7,2) (nullable = true)\n",
      " |-- ss_ext_discount_amt: decimal(7,2) (nullable = true)\n",
      " |-- ss_ext_sales_price: decimal(7,2) (nullable = true)\n",
      " |-- ss_ext_wholesale_cost: decimal(7,2) (nullable = true)\n",
      " |-- ss_ext_list_price: decimal(7,2) (nullable = true)\n",
      " |-- ss_ext_tax: decimal(7,2) (nullable = true)\n",
      " |-- ss_coupon_amt: decimal(7,2) (nullable = true)\n",
      " |-- ss_net_paid: decimal(7,2) (nullable = true)\n",
      " |-- ss_net_paid_inc_tax: decimal(7,2) (nullable = true)\n",
      " |-- ss_net_profit: decimal(7,2) (nullable = true)\n",
      "\n"
     ]
    },
    {
     "data": {
      "text/html": [
       "<div>\n",
       "<style scoped>\n",
       "    .dataframe tbody tr th:only-of-type {\n",
       "        vertical-align: middle;\n",
       "    }\n",
       "\n",
       "    .dataframe tbody tr th {\n",
       "        vertical-align: top;\n",
       "    }\n",
       "\n",
       "    .dataframe thead th {\n",
       "        text-align: right;\n",
       "    }\n",
       "</style>\n",
       "<table border=\"1\" class=\"dataframe\">\n",
       "  <thead>\n",
       "    <tr style=\"text-align: right;\">\n",
       "      <th></th>\n",
       "      <th>d_date_sk</th>\n",
       "      <th>d_date_id</th>\n",
       "      <th>d_date</th>\n",
       "      <th>d_month_seq</th>\n",
       "      <th>d_week_seq</th>\n",
       "      <th>d_quarter_seq</th>\n",
       "      <th>d_year</th>\n",
       "      <th>d_dow</th>\n",
       "      <th>d_moy</th>\n",
       "      <th>d_dom</th>\n",
       "      <th>...</th>\n",
       "      <th>d_first_dom</th>\n",
       "      <th>d_last_dom</th>\n",
       "      <th>d_same_day_ly</th>\n",
       "      <th>d_same_day_lq</th>\n",
       "      <th>d_current_day</th>\n",
       "      <th>d_current_week</th>\n",
       "      <th>d_current_month</th>\n",
       "      <th>d_current_quarter</th>\n",
       "      <th>d_current_year</th>\n",
       "      <th>useless2</th>\n",
       "    </tr>\n",
       "  </thead>\n",
       "  <tbody>\n",
       "    <tr>\n",
       "      <th>2</th>\n",
       "      <td>2415024</td>\n",
       "      <td>AAAAAAAAALJNECAA</td>\n",
       "      <td>1900-01-04</td>\n",
       "      <td>0</td>\n",
       "      <td>1</td>\n",
       "      <td>1</td>\n",
       "      <td>1900</td>\n",
       "      <td>3</td>\n",
       "      <td>1</td>\n",
       "      <td>4</td>\n",
       "      <td>...</td>\n",
       "      <td>2415021</td>\n",
       "      <td>2415020</td>\n",
       "      <td>2414659</td>\n",
       "      <td>2414932</td>\n",
       "      <td>N</td>\n",
       "      <td>N</td>\n",
       "      <td>N</td>\n",
       "      <td>N</td>\n",
       "      <td>N</td>\n",
       "      <td>None</td>\n",
       "    </tr>\n",
       "    <tr>\n",
       "      <th>6</th>\n",
       "      <td>2415028</td>\n",
       "      <td>AAAAAAAAELJNECAA</td>\n",
       "      <td>1900-01-08</td>\n",
       "      <td>0</td>\n",
       "      <td>1</td>\n",
       "      <td>1</td>\n",
       "      <td>1900</td>\n",
       "      <td>0</td>\n",
       "      <td>1</td>\n",
       "      <td>8</td>\n",
       "      <td>...</td>\n",
       "      <td>2415021</td>\n",
       "      <td>2415020</td>\n",
       "      <td>2414663</td>\n",
       "      <td>2414936</td>\n",
       "      <td>N</td>\n",
       "      <td>N</td>\n",
       "      <td>N</td>\n",
       "      <td>N</td>\n",
       "      <td>N</td>\n",
       "      <td>None</td>\n",
       "    </tr>\n",
       "    <tr>\n",
       "      <th>3</th>\n",
       "      <td>2415025</td>\n",
       "      <td>AAAAAAAABLJNECAA</td>\n",
       "      <td>1900-01-05</td>\n",
       "      <td>0</td>\n",
       "      <td>1</td>\n",
       "      <td>1</td>\n",
       "      <td>1900</td>\n",
       "      <td>4</td>\n",
       "      <td>1</td>\n",
       "      <td>5</td>\n",
       "      <td>...</td>\n",
       "      <td>2415021</td>\n",
       "      <td>2415020</td>\n",
       "      <td>2414660</td>\n",
       "      <td>2414933</td>\n",
       "      <td>N</td>\n",
       "      <td>N</td>\n",
       "      <td>N</td>\n",
       "      <td>N</td>\n",
       "      <td>N</td>\n",
       "      <td>None</td>\n",
       "    </tr>\n",
       "    <tr>\n",
       "      <th>1</th>\n",
       "      <td>2415023</td>\n",
       "      <td>AAAAAAAAPKJNECAA</td>\n",
       "      <td>1900-01-03</td>\n",
       "      <td>0</td>\n",
       "      <td>1</td>\n",
       "      <td>1</td>\n",
       "      <td>1900</td>\n",
       "      <td>2</td>\n",
       "      <td>1</td>\n",
       "      <td>3</td>\n",
       "      <td>...</td>\n",
       "      <td>2415021</td>\n",
       "      <td>2415020</td>\n",
       "      <td>2414658</td>\n",
       "      <td>2414931</td>\n",
       "      <td>N</td>\n",
       "      <td>N</td>\n",
       "      <td>N</td>\n",
       "      <td>N</td>\n",
       "      <td>N</td>\n",
       "      <td>None</td>\n",
       "    </tr>\n",
       "    <tr>\n",
       "      <th>8</th>\n",
       "      <td>2415030</td>\n",
       "      <td>AAAAAAAAGLJNECAA</td>\n",
       "      <td>1900-01-10</td>\n",
       "      <td>0</td>\n",
       "      <td>2</td>\n",
       "      <td>1</td>\n",
       "      <td>1900</td>\n",
       "      <td>2</td>\n",
       "      <td>1</td>\n",
       "      <td>10</td>\n",
       "      <td>...</td>\n",
       "      <td>2415021</td>\n",
       "      <td>2415020</td>\n",
       "      <td>2414665</td>\n",
       "      <td>2414938</td>\n",
       "      <td>N</td>\n",
       "      <td>N</td>\n",
       "      <td>N</td>\n",
       "      <td>N</td>\n",
       "      <td>N</td>\n",
       "      <td>None</td>\n",
       "    </tr>\n",
       "    <tr>\n",
       "      <th>7</th>\n",
       "      <td>2415029</td>\n",
       "      <td>AAAAAAAAFLJNECAA</td>\n",
       "      <td>1900-01-09</td>\n",
       "      <td>0</td>\n",
       "      <td>2</td>\n",
       "      <td>1</td>\n",
       "      <td>1900</td>\n",
       "      <td>1</td>\n",
       "      <td>1</td>\n",
       "      <td>9</td>\n",
       "      <td>...</td>\n",
       "      <td>2415021</td>\n",
       "      <td>2415020</td>\n",
       "      <td>2414664</td>\n",
       "      <td>2414937</td>\n",
       "      <td>N</td>\n",
       "      <td>N</td>\n",
       "      <td>N</td>\n",
       "      <td>N</td>\n",
       "      <td>N</td>\n",
       "      <td>None</td>\n",
       "    </tr>\n",
       "    <tr>\n",
       "      <th>9</th>\n",
       "      <td>2415031</td>\n",
       "      <td>AAAAAAAAHLJNECAA</td>\n",
       "      <td>1900-01-11</td>\n",
       "      <td>0</td>\n",
       "      <td>2</td>\n",
       "      <td>1</td>\n",
       "      <td>1900</td>\n",
       "      <td>3</td>\n",
       "      <td>1</td>\n",
       "      <td>11</td>\n",
       "      <td>...</td>\n",
       "      <td>2415021</td>\n",
       "      <td>2415020</td>\n",
       "      <td>2414666</td>\n",
       "      <td>2414939</td>\n",
       "      <td>N</td>\n",
       "      <td>N</td>\n",
       "      <td>N</td>\n",
       "      <td>N</td>\n",
       "      <td>N</td>\n",
       "      <td>None</td>\n",
       "    </tr>\n",
       "    <tr>\n",
       "      <th>4</th>\n",
       "      <td>2415026</td>\n",
       "      <td>AAAAAAAACLJNECAA</td>\n",
       "      <td>1900-01-06</td>\n",
       "      <td>0</td>\n",
       "      <td>1</td>\n",
       "      <td>1</td>\n",
       "      <td>1900</td>\n",
       "      <td>5</td>\n",
       "      <td>1</td>\n",
       "      <td>6</td>\n",
       "      <td>...</td>\n",
       "      <td>2415021</td>\n",
       "      <td>2415020</td>\n",
       "      <td>2414661</td>\n",
       "      <td>2414934</td>\n",
       "      <td>N</td>\n",
       "      <td>N</td>\n",
       "      <td>N</td>\n",
       "      <td>N</td>\n",
       "      <td>N</td>\n",
       "      <td>None</td>\n",
       "    </tr>\n",
       "    <tr>\n",
       "      <th>5</th>\n",
       "      <td>2415027</td>\n",
       "      <td>AAAAAAAADLJNECAA</td>\n",
       "      <td>1900-01-07</td>\n",
       "      <td>0</td>\n",
       "      <td>1</td>\n",
       "      <td>1</td>\n",
       "      <td>1900</td>\n",
       "      <td>6</td>\n",
       "      <td>1</td>\n",
       "      <td>7</td>\n",
       "      <td>...</td>\n",
       "      <td>2415021</td>\n",
       "      <td>2415020</td>\n",
       "      <td>2414662</td>\n",
       "      <td>2414935</td>\n",
       "      <td>N</td>\n",
       "      <td>N</td>\n",
       "      <td>N</td>\n",
       "      <td>N</td>\n",
       "      <td>N</td>\n",
       "      <td>None</td>\n",
       "    </tr>\n",
       "    <tr>\n",
       "      <th>0</th>\n",
       "      <td>2415022</td>\n",
       "      <td>AAAAAAAAOKJNECAA</td>\n",
       "      <td>1900-01-02</td>\n",
       "      <td>0</td>\n",
       "      <td>1</td>\n",
       "      <td>1</td>\n",
       "      <td>1900</td>\n",
       "      <td>1</td>\n",
       "      <td>1</td>\n",
       "      <td>2</td>\n",
       "      <td>...</td>\n",
       "      <td>2415021</td>\n",
       "      <td>2415020</td>\n",
       "      <td>2414657</td>\n",
       "      <td>2414930</td>\n",
       "      <td>N</td>\n",
       "      <td>N</td>\n",
       "      <td>N</td>\n",
       "      <td>N</td>\n",
       "      <td>N</td>\n",
       "      <td>None</td>\n",
       "    </tr>\n",
       "  </tbody>\n",
       "</table>\n",
       "<p>10 rows × 29 columns</p>\n",
       "</div>"
      ],
      "text/plain": [
       "  d_date_sk         d_date_id      d_date d_month_seq d_week_seq  \\\n",
       "2   2415024  AAAAAAAAALJNECAA  1900-01-04           0          1   \n",
       "6   2415028  AAAAAAAAELJNECAA  1900-01-08           0          1   \n",
       "3   2415025  AAAAAAAABLJNECAA  1900-01-05           0          1   \n",
       "1   2415023  AAAAAAAAPKJNECAA  1900-01-03           0          1   \n",
       "8   2415030  AAAAAAAAGLJNECAA  1900-01-10           0          2   \n",
       "7   2415029  AAAAAAAAFLJNECAA  1900-01-09           0          2   \n",
       "9   2415031  AAAAAAAAHLJNECAA  1900-01-11           0          2   \n",
       "4   2415026  AAAAAAAACLJNECAA  1900-01-06           0          1   \n",
       "5   2415027  AAAAAAAADLJNECAA  1900-01-07           0          1   \n",
       "0   2415022  AAAAAAAAOKJNECAA  1900-01-02           0          1   \n",
       "\n",
       "  d_quarter_seq d_year d_dow d_moy d_dom  ... d_first_dom d_last_dom  \\\n",
       "2             1   1900     3     1     4  ...     2415021    2415020   \n",
       "6             1   1900     0     1     8  ...     2415021    2415020   \n",
       "3             1   1900     4     1     5  ...     2415021    2415020   \n",
       "1             1   1900     2     1     3  ...     2415021    2415020   \n",
       "8             1   1900     2     1    10  ...     2415021    2415020   \n",
       "7             1   1900     1     1     9  ...     2415021    2415020   \n",
       "9             1   1900     3     1    11  ...     2415021    2415020   \n",
       "4             1   1900     5     1     6  ...     2415021    2415020   \n",
       "5             1   1900     6     1     7  ...     2415021    2415020   \n",
       "0             1   1900     1     1     2  ...     2415021    2415020   \n",
       "\n",
       "  d_same_day_ly d_same_day_lq d_current_day d_current_week d_current_month  \\\n",
       "2       2414659       2414932             N              N               N   \n",
       "6       2414663       2414936             N              N               N   \n",
       "3       2414660       2414933             N              N               N   \n",
       "1       2414658       2414931             N              N               N   \n",
       "8       2414665       2414938             N              N               N   \n",
       "7       2414664       2414937             N              N               N   \n",
       "9       2414666       2414939             N              N               N   \n",
       "4       2414661       2414934             N              N               N   \n",
       "5       2414662       2414935             N              N               N   \n",
       "0       2414657       2414930             N              N               N   \n",
       "\n",
       "  d_current_quarter d_current_year useless2  \n",
       "2                 N              N     None  \n",
       "6                 N              N     None  \n",
       "3                 N              N     None  \n",
       "1                 N              N     None  \n",
       "8                 N              N     None  \n",
       "7                 N              N     None  \n",
       "9                 N              N     None  \n",
       "4                 N              N     None  \n",
       "5                 N              N     None  \n",
       "0                 N              N     None  \n",
       "\n",
       "[10 rows x 29 columns]"
      ]
     },
     "execution_count": 2,
     "metadata": {},
     "output_type": "execute_result"
    }
   ],
   "source": [
    "date_dim_pd = date_dim.limit(10).toPandas()\n",
    "\n",
    "df = spark.read \\\n",
    "    .format(\"jdbc\") \\\n",
    "    .option(\"url\", \"jdbc:postgresql://localhost:5432/tpcds\") \\\n",
    "    .option(\"dbtable\", \"store_sales\") \\\n",
    "    .option(\"user\", \"postgres\") \\\n",
    "    .option(\"driver\", \"org.postgresql.Driver\") \\\n",
    "    .load()\n",
    "\n",
    "df.printSchema()\n",
    "date_dim_pd.sample(10)"
   ]
  },
  {
   "cell_type": "markdown",
   "metadata": {},
   "source": [
    "# Running a Large Query"
   ]
  },
  {
   "cell_type": "code",
   "execution_count": 115,
   "metadata": {},
   "outputs": [
    {
     "name": "stdout",
     "output_type": "stream",
     "text": [
      "CPU times: user 367 ms, sys: 212 ms, total: 579 ms\n",
      "Wall time: 1h 5min 28s\n"
     ]
    }
   ],
   "source": [
    "%%time\n",
    "query_no_lazy = store_sales.join(date_dim.withColumnRenamed(\"d_date_sk\",\"ss_sold_date_sk\"),\"ss_sold_date_sk\")\\\n",
    "                    .join(item.withColumnRenamed(\"i_item_sk\",\"ss_item_sk\"),\"ss_item_sk\")\\\n",
    "                    .join(inv.withColumnRenamed(\"inv_item_sk\",\"ss_item_sk\"),\"ss_item_sk\")\n",
    "spark.conf.set(\"spark.sql.shuffle.partitions\", 500)\n",
    "query_no_lazy.write.mode(\"overwrite\").format(\"parquet\").save(\"/tmp/mohamed/scrates/query_no_lazy\")"
   ]
  },
  {
   "cell_type": "markdown",
   "metadata": {},
   "source": [
    "# Use Lazy Loading or Data Skipping "
   ]
  },
  {
   "cell_type": "code",
   "execution_count": null,
   "metadata": {
    "scrolled": true
   },
   "outputs": [],
   "source": [
    "%%time\n",
    "\n",
    "from pyspark.sql import functions as F\n",
    "import pandas as pd\n",
    "query_no_lazy = store_sales.join(\\\n",
    "                                 date_dim.filter(F.col(\"d_date\").between(pd.to_datetime(\"2000\"),\\\n",
    "                                                                         pd.to_datetime(\"2001\")))\\\n",
    "                                 ,date_dim.d_date_sk == store_sales.ss_sold_date_sk)\\\n",
    "                    .join(item.withColumnRenamed(\"i_item_sk\",\"ss_item_sk\"),\"ss_item_sk\")\\\n",
    "                    .join(inv, (inv.inv_item_sk == store_sales.ss_item_sk) & \\\n",
    "                          (inv.inv_date_sk == store_sales.ss_sold_date_sk))\n",
    "spark.conf.set(\"spark.sql.shuffle.partitions\", 500)\n",
    "query_no_lazy.write.mode(\"overwrite\").format(\"parquet\").save(\"/tmp/mohamed/scrates/query_no_lazy\")"
   ]
  },
  {
   "cell_type": "markdown",
   "metadata": {},
   "source": [
    "# Tuning number of paritions"
   ]
  },
  {
   "cell_type": "code",
   "execution_count": 117,
   "metadata": {
    "scrolled": true
   },
   "outputs": [
    {
     "name": "stdout",
     "output_type": "stream",
     "text": [
      "CPU times: user 3.28 ms, sys: 2.23 ms, total: 5.51 ms\n",
      "Wall time: 25.1 s\n"
     ]
    }
   ],
   "source": [
    "%%time\n",
    "\n",
    "spark.conf.set(\"spark.sql.shuffle.partitions\", 20)\n",
    "query_no_lazy.write.mode(\"overwrite\").format(\"parquet\").save(\"/tmp/mohamed/scrates/query_no_lazy\")"
   ]
  },
  {
   "cell_type": "markdown",
   "metadata": {},
   "source": [
    "# Tuning Input Partitions "
   ]
  },
  {
   "cell_type": "code",
   "execution_count": 118,
   "metadata": {},
   "outputs": [
    {
     "name": "stdout",
     "output_type": "stream",
     "text": [
      "CPU times: user 1.39 ms, sys: 997 µs, total: 2.39 ms\n",
      "Wall time: 103 ms\n"
     ]
    },
    {
     "data": {
      "text/plain": [
       "20"
      ]
     },
     "execution_count": 118,
     "metadata": {},
     "output_type": "execute_result"
    }
   ],
   "source": [
    "%%time\n",
    "\n",
    "\n",
    "spark.conf.set(\"spark.sql.files.maxPartitionBytes\",13417728)\n",
    "parquet_read = spark.read.parquet(\"/tmp/mohamed/scrates/query_no_lazy\")\n",
    "parquet_read.rdd.getNumPartitions()"
   ]
  },
  {
   "cell_type": "code",
   "execution_count": 119,
   "metadata": {},
   "outputs": [
    {
     "name": "stdout",
     "output_type": "stream",
     "text": [
      "CPU times: user 2.06 ms, sys: 1.5 ms, total: 3.56 ms\n",
      "Wall time: 2.66 s\n"
     ]
    },
    {
     "data": {
      "text/plain": [
       "3173224"
      ]
     },
     "execution_count": 119,
     "metadata": {},
     "output_type": "execute_result"
    }
   ],
   "source": [
    "%%time\n",
    "spark.conf.set(\"spark.sql.files.maxPartitionBytes\",   16)\n",
    "parquet_read = spark.read.parquet(\"/tmp/mohamed/scrates/query_no_lazy\")\n",
    "parquet_read.rdd.getNumPartitions()"
   ]
  },
  {
   "cell_type": "markdown",
   "metadata": {},
   "source": [
    "# Optimization Broadcast Join \n"
   ]
  },
  {
   "cell_type": "code",
   "execution_count": 123,
   "metadata": {},
   "outputs": [
    {
     "ename": "KeyboardInterrupt",
     "evalue": "",
     "output_type": "error",
     "traceback": [
      "\u001b[0;31m---------------------------------------------------------------------------\u001b[0m",
      "\u001b[0;31mKeyboardInterrupt\u001b[0m                         Traceback (most recent call last)",
      "\u001b[0;32m<timed exec>\u001b[0m in \u001b[0;36m<module>\u001b[0;34m\u001b[0m\n",
      "\u001b[0;32m/usr/local/Cellar/apache-spark/3.0.1/libexec/python/pyspark/sql/readwriter.py\u001b[0m in \u001b[0;36msave\u001b[0;34m(self, path, format, mode, partitionBy, **options)\u001b[0m\n\u001b[1;32m    825\u001b[0m             \u001b[0mself\u001b[0m\u001b[0;34m.\u001b[0m\u001b[0m_jwrite\u001b[0m\u001b[0;34m.\u001b[0m\u001b[0msave\u001b[0m\u001b[0;34m(\u001b[0m\u001b[0;34m)\u001b[0m\u001b[0;34m\u001b[0m\u001b[0;34m\u001b[0m\u001b[0m\n\u001b[1;32m    826\u001b[0m         \u001b[0;32melse\u001b[0m\u001b[0;34m:\u001b[0m\u001b[0;34m\u001b[0m\u001b[0;34m\u001b[0m\u001b[0m\n\u001b[0;32m--> 827\u001b[0;31m             \u001b[0mself\u001b[0m\u001b[0;34m.\u001b[0m\u001b[0m_jwrite\u001b[0m\u001b[0;34m.\u001b[0m\u001b[0msave\u001b[0m\u001b[0;34m(\u001b[0m\u001b[0mpath\u001b[0m\u001b[0;34m)\u001b[0m\u001b[0;34m\u001b[0m\u001b[0;34m\u001b[0m\u001b[0m\n\u001b[0m\u001b[1;32m    828\u001b[0m \u001b[0;34m\u001b[0m\u001b[0m\n\u001b[1;32m    829\u001b[0m     \u001b[0;34m@\u001b[0m\u001b[0msince\u001b[0m\u001b[0;34m(\u001b[0m\u001b[0;36m1.4\u001b[0m\u001b[0;34m)\u001b[0m\u001b[0;34m\u001b[0m\u001b[0;34m\u001b[0m\u001b[0m\n",
      "\u001b[0;32m/usr/local/Cellar/apache-spark/3.0.1/libexec/python/lib/py4j-0.10.9-src.zip/py4j/java_gateway.py\u001b[0m in \u001b[0;36m__call__\u001b[0;34m(self, *args)\u001b[0m\n\u001b[1;32m   1301\u001b[0m             \u001b[0mproto\u001b[0m\u001b[0;34m.\u001b[0m\u001b[0mEND_COMMAND_PART\u001b[0m\u001b[0;34m\u001b[0m\u001b[0;34m\u001b[0m\u001b[0m\n\u001b[1;32m   1302\u001b[0m \u001b[0;34m\u001b[0m\u001b[0m\n\u001b[0;32m-> 1303\u001b[0;31m         \u001b[0manswer\u001b[0m \u001b[0;34m=\u001b[0m \u001b[0mself\u001b[0m\u001b[0;34m.\u001b[0m\u001b[0mgateway_client\u001b[0m\u001b[0;34m.\u001b[0m\u001b[0msend_command\u001b[0m\u001b[0;34m(\u001b[0m\u001b[0mcommand\u001b[0m\u001b[0;34m)\u001b[0m\u001b[0;34m\u001b[0m\u001b[0;34m\u001b[0m\u001b[0m\n\u001b[0m\u001b[1;32m   1304\u001b[0m         return_value = get_return_value(\n\u001b[1;32m   1305\u001b[0m             answer, self.gateway_client, self.target_id, self.name)\n",
      "\u001b[0;32m/usr/local/Cellar/apache-spark/3.0.1/libexec/python/lib/py4j-0.10.9-src.zip/py4j/java_gateway.py\u001b[0m in \u001b[0;36msend_command\u001b[0;34m(self, command, retry, binary)\u001b[0m\n\u001b[1;32m   1031\u001b[0m         \u001b[0mconnection\u001b[0m \u001b[0;34m=\u001b[0m \u001b[0mself\u001b[0m\u001b[0;34m.\u001b[0m\u001b[0m_get_connection\u001b[0m\u001b[0;34m(\u001b[0m\u001b[0;34m)\u001b[0m\u001b[0;34m\u001b[0m\u001b[0;34m\u001b[0m\u001b[0m\n\u001b[1;32m   1032\u001b[0m         \u001b[0;32mtry\u001b[0m\u001b[0;34m:\u001b[0m\u001b[0;34m\u001b[0m\u001b[0;34m\u001b[0m\u001b[0m\n\u001b[0;32m-> 1033\u001b[0;31m             \u001b[0mresponse\u001b[0m \u001b[0;34m=\u001b[0m \u001b[0mconnection\u001b[0m\u001b[0;34m.\u001b[0m\u001b[0msend_command\u001b[0m\u001b[0;34m(\u001b[0m\u001b[0mcommand\u001b[0m\u001b[0;34m)\u001b[0m\u001b[0;34m\u001b[0m\u001b[0;34m\u001b[0m\u001b[0m\n\u001b[0m\u001b[1;32m   1034\u001b[0m             \u001b[0;32mif\u001b[0m \u001b[0mbinary\u001b[0m\u001b[0;34m:\u001b[0m\u001b[0;34m\u001b[0m\u001b[0;34m\u001b[0m\u001b[0m\n\u001b[1;32m   1035\u001b[0m                 \u001b[0;32mreturn\u001b[0m \u001b[0mresponse\u001b[0m\u001b[0;34m,\u001b[0m \u001b[0mself\u001b[0m\u001b[0;34m.\u001b[0m\u001b[0m_create_connection_guard\u001b[0m\u001b[0;34m(\u001b[0m\u001b[0mconnection\u001b[0m\u001b[0;34m)\u001b[0m\u001b[0;34m\u001b[0m\u001b[0;34m\u001b[0m\u001b[0m\n",
      "\u001b[0;32m/usr/local/Cellar/apache-spark/3.0.1/libexec/python/lib/py4j-0.10.9-src.zip/py4j/java_gateway.py\u001b[0m in \u001b[0;36msend_command\u001b[0;34m(self, command)\u001b[0m\n\u001b[1;32m   1198\u001b[0m \u001b[0;34m\u001b[0m\u001b[0m\n\u001b[1;32m   1199\u001b[0m         \u001b[0;32mtry\u001b[0m\u001b[0;34m:\u001b[0m\u001b[0;34m\u001b[0m\u001b[0;34m\u001b[0m\u001b[0m\n\u001b[0;32m-> 1200\u001b[0;31m             \u001b[0manswer\u001b[0m \u001b[0;34m=\u001b[0m \u001b[0msmart_decode\u001b[0m\u001b[0;34m(\u001b[0m\u001b[0mself\u001b[0m\u001b[0;34m.\u001b[0m\u001b[0mstream\u001b[0m\u001b[0;34m.\u001b[0m\u001b[0mreadline\u001b[0m\u001b[0;34m(\u001b[0m\u001b[0;34m)\u001b[0m\u001b[0;34m[\u001b[0m\u001b[0;34m:\u001b[0m\u001b[0;34m-\u001b[0m\u001b[0;36m1\u001b[0m\u001b[0;34m]\u001b[0m\u001b[0;34m)\u001b[0m\u001b[0;34m\u001b[0m\u001b[0;34m\u001b[0m\u001b[0m\n\u001b[0m\u001b[1;32m   1201\u001b[0m             \u001b[0mlogger\u001b[0m\u001b[0;34m.\u001b[0m\u001b[0mdebug\u001b[0m\u001b[0;34m(\u001b[0m\u001b[0;34m\"Answer received: {0}\"\u001b[0m\u001b[0;34m.\u001b[0m\u001b[0mformat\u001b[0m\u001b[0;34m(\u001b[0m\u001b[0manswer\u001b[0m\u001b[0;34m)\u001b[0m\u001b[0;34m)\u001b[0m\u001b[0;34m\u001b[0m\u001b[0;34m\u001b[0m\u001b[0m\n\u001b[1;32m   1202\u001b[0m             \u001b[0;32mif\u001b[0m \u001b[0manswer\u001b[0m\u001b[0;34m.\u001b[0m\u001b[0mstartswith\u001b[0m\u001b[0;34m(\u001b[0m\u001b[0mproto\u001b[0m\u001b[0;34m.\u001b[0m\u001b[0mRETURN_MESSAGE\u001b[0m\u001b[0;34m)\u001b[0m\u001b[0;34m:\u001b[0m\u001b[0;34m\u001b[0m\u001b[0;34m\u001b[0m\u001b[0m\n",
      "\u001b[0;32m~/.pyenv/versions/3.8.0/lib/python3.8/socket.py\u001b[0m in \u001b[0;36mreadinto\u001b[0;34m(self, b)\u001b[0m\n\u001b[1;32m    667\u001b[0m         \u001b[0;32mwhile\u001b[0m \u001b[0;32mTrue\u001b[0m\u001b[0;34m:\u001b[0m\u001b[0;34m\u001b[0m\u001b[0;34m\u001b[0m\u001b[0m\n\u001b[1;32m    668\u001b[0m             \u001b[0;32mtry\u001b[0m\u001b[0;34m:\u001b[0m\u001b[0;34m\u001b[0m\u001b[0;34m\u001b[0m\u001b[0m\n\u001b[0;32m--> 669\u001b[0;31m                 \u001b[0;32mreturn\u001b[0m \u001b[0mself\u001b[0m\u001b[0;34m.\u001b[0m\u001b[0m_sock\u001b[0m\u001b[0;34m.\u001b[0m\u001b[0mrecv_into\u001b[0m\u001b[0;34m(\u001b[0m\u001b[0mb\u001b[0m\u001b[0;34m)\u001b[0m\u001b[0;34m\u001b[0m\u001b[0;34m\u001b[0m\u001b[0m\n\u001b[0m\u001b[1;32m    670\u001b[0m             \u001b[0;32mexcept\u001b[0m \u001b[0mtimeout\u001b[0m\u001b[0;34m:\u001b[0m\u001b[0;34m\u001b[0m\u001b[0;34m\u001b[0m\u001b[0m\n\u001b[1;32m    671\u001b[0m                 \u001b[0mself\u001b[0m\u001b[0;34m.\u001b[0m\u001b[0m_timeout_occurred\u001b[0m \u001b[0;34m=\u001b[0m \u001b[0;32mTrue\u001b[0m\u001b[0;34m\u001b[0m\u001b[0;34m\u001b[0m\u001b[0m\n",
      "\u001b[0;31mKeyboardInterrupt\u001b[0m: "
     ]
    }
   ],
   "source": [
    "%%time\n",
    "from pyspark.sql.functions import broadcast\n",
    "\n",
    "\n",
    "\n",
    "query_no_lazy = store_sales.join(\\\n",
    "                                 broadcast(date_dim.filter(F.col(\"d_date\").between(pd.to_datetime(\"2000\"),\\\n",
    "                                                                         pd.to_datetime(\"2001\"))))\\\n",
    "                                 ,date_dim.d_date_sk == store_sales.ss_sold_date_sk)\\\n",
    "                    .join(item.withColumnRenamed(\"i_item_sk\",\"ss_item_sk\"),\"ss_item_sk\")\\\n",
    "                    .join(inv, (inv.inv_item_sk == store_sales.ss_item_sk) & \\\n",
    "                          (inv.inv_date_sk == store_sales.ss_sold_date_sk))\n",
    "\n",
    "query_no_lazy.write.mode(\"overwrite\").format(\"parquet\").save(\"/tmp/mohamed/scrates/query_no_lazy\")"
   ]
  },
  {
   "cell_type": "code",
   "execution_count": null,
   "metadata": {},
   "outputs": [],
   "source": []
  }
 ],
 "metadata": {
  "celltoolbar": "Raw Cell Format",
  "kernelspec": {
   "display_name": "Python 3",
   "language": "python",
   "name": "python3"
  },
  "language_info": {
   "codemirror_mode": {
    "name": "ipython",
    "version": 3
   },
   "file_extension": ".py",
   "mimetype": "text/x-python",
   "name": "python",
   "nbconvert_exporter": "python",
   "pygments_lexer": "ipython3",
   "version": "3.8.0"
  }
 },
 "nbformat": 4,
 "nbformat_minor": 4
}
